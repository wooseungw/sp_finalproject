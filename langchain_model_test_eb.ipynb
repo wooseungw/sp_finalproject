{
 "cells": [
  {
   "cell_type": "code",
   "execution_count": 1,
   "metadata": {},
   "outputs": [],
   "source": [
    "import os\n",
    "from glob import glob\n",
    "from langchain_community.document_loaders import PyPDFLoader\n",
    "from langchain.text_splitter import RecursiveCharacterTextSplitter\n",
    "from langchain_openai import OpenAIEmbeddings, ChatOpenAI\n",
    "from langchain.chains import RetrievalQA\n",
    "from langchain_community.vectorstores import Chroma\n",
    "from dotenv import load_dotenv\n",
    "load_dotenv()\n",
    "\n",
    "import textwrap\n",
    "from IPython.display import display\n",
    "from IPython.display import Markdown\n",
    "\n",
    "\n",
    "def to_markdown(text):\n",
    "  text = text.replace('•', '  *')\n",
    "  return Markdown(textwrap.indent(text, '> ', predicate=lambda _: True))\n",
    "\n",
    "# Initialize variables\n",
    "documents = []\n",
    "OPENAI_API_KEY = os.getenv(\"OPENAI_API_KEY\")\n",
    "\n",
    "\n",
    "#print(OPENAI_API_KEY)\n",
    "# Define the directory containing the PDF files\n",
    "pdf_directory = './data'"
   ]
  },
  {
   "cell_type": "markdown",
   "metadata": {},
   "source": [
    "자료를 벡터 db에 넣기"
   ]
  },
  {
   "cell_type": "code",
   "execution_count": 2,
   "metadata": {},
   "outputs": [
    {
     "name": "stdout",
     "output_type": "stream",
     "text": [
      "[Document(page_content='학부(과): ICT공학부 전공:소프트웨어전공 성명: 박은빈 학번:202004052개인별 수강 과목 리스트\\n이수구분 학수번호 교과명 학점점수성적년도학년학기학점중복신청 구분 개설전공\\n자선 NG21402 자기관리와진로탐색 1P2020 12 교양\\n자선 학점 합계 : 1.0 학점\\n타전VG34202 강화학습 399A+2023 32 인공지능전공\\nVG24201 데이터시각화 399A+2023 32 데이터사이언스전공\\nVG34201 딥러닝기초 397A+2023 32 인공지능전공\\n타전 학점 합계 : 9.0 학점\\n기초ND01609 Academic English I(intro) 395A+2020 11 소프트웨어응용학부\\nND01607 Academic English II(intro) 392A2020 12 소프트웨어응용학부\\nNA01109 글쓰기 298A+2020 12 소프트웨어응용학부\\nND01601 기독교와현대사회 299A+2020 12 소프트웨어응용학부\\nVA01601 인성과학문I 0P2020 11 소프트웨어응용학부\\nVA01601 인성과학문II 0P2020 12 소프트웨어응용학부\\nVA01601 인성과학문III 0P2021 21 소프트웨어응용학부\\nVA01601 인성과학문IV 0P2021 22 소프트웨어응용학부\\nND01612 채플(공동체리더십)III 0P2021 21 소프트웨어응용학부\\nND01604 채플(이웃사랑)II 0P2020 12 소프트웨어응용학부\\nND01605 채플(인성교육)I 0P2020 11 음악학과\\nND01612 채플(행복나눔)IV 0P2021 22 소프트웨어응용학부\\nND01602 컴퓨터프로그래밍 395A+2020 11 소프트웨어응용학부\\n기초 학점 합계 : 13.0 학점\\n균형NE31705 디지털과빅데이터 398A+2023 31 교양(3영역)\\nNE11705 실존적삶과철학 3100A+2023 31 교양(1영역)\\nNE41707 알기쉬운자연과학 398A+2023 32 교양(4영역)\\nNE61702 인간과의학 398A+2020 12 교양(5영역)\\n균형 학점 합계 : 12.0 학점\\n계열NF01803 공학수학 385B+2020 11 소프트웨어응용학부\\nNF01802 복지와테크놀로지 397A+2020 11 소프트웨어응용학부\\n계열 학점 합계 : 6.0 학점\\n전기VA04101 C프로그래밍I 397A+2020 11 소프트웨어응용학부\\nVA04102 C프로그래밍II 393A2020 12 소프트웨어응용학부\\nVG04102 R프로그래밍 395A+2023 32 인공지능융합공학부\\nVA04103 가상현실콘텐츠기초 397A+2020 12 소프트웨어응용학부\\nVA04102 소프트웨어개론 398A+2020 11 소프트웨어응용학부\\nVA04101 이산수학 396A+2020 12 소프트웨어응용학부\\n전기 학점 합계 : 18.0 학점\\n전선VE14206 UNIX서버 397A+2023 31 소프트웨어전공\\nVA04207 가상현실프로그래밍I 398A+2021 22 소프트웨어응용학부전공구분: 심화전공 복수전공: 부전공: \\n마이크로전공: Page 1/5 조회일자 : 2024-05-28', metadata={'source': './data\\\\20240528130930387.pdf', 'page': 0}), Document(page_content='학부(과): ICT공학부 전공:소프트웨어전공 성명: 박은빈 학번:202004052개인별 수강 과목 리스트\\n이수구분 학수번호 교과명 학점점수성적년도학년학기학점중복신청 구분 개설전공\\n전선VA04201 객체지향프로그래밍 398A+2021 22 소프트웨어응용학부\\nVA04208 게임엔진기초 381B2021 21 소프트웨어응용학부\\nVE14207 네트워크 394A2023 32 소프트웨어전공\\nVE14201 데이터베이스 395A+2023 32 소프트웨어전공\\nVA04201 디지털회로 395A+2021 21 소프트웨어응용학부\\nVA04205 모바일프로그래밍 396A+2021 22 소프트웨어응용학부\\nVA04207 선형대수 395A+2021 21 소프트웨어응용학부\\nVE14205 알고리즘 398A+2023 31 소프트웨어전공\\nVE14202 운영체제 390A2023 32 소프트웨어전공\\nVA04208 웹개발기초 396A+2021 22 소프트웨어응용학부\\nVE14201 웹프로그래밍 397A+2023 31 소프트웨어전공\\nVA04204 임베디드기초 398A+2021 22 소프트웨어응용학부\\nVA04203 자료구조 397A+2021 21 소프트웨어응용학부\\nVA04204 자바프로그래밍 396A+2021 21 소프트웨어응용학부\\nVA04202 정보보호개론 397A+2021 22 소프트웨어응용학부\\nVA04205 정보통신개론 395A+2021 21 소프트웨어응용학부\\nVE14204 진로지도상담II 0P2023 32 소프트웨어전공\\nVE14203 컴퓨터구조 395A+2023 31 소프트웨어전공\\n전선 학점 합계 : 57.0 학점 / 제1전공 평균평점 : 4.38\\n박은빈 학생 전체 합계 : 117.0 학점 (예비대학인정학점 : 1) / 전체 평점평균 : 4.38 / 백분율 : 98.6전공구분: 심화전공 복수전공: 부전공: \\n마이크로전공: Page 2/5 조회일자 : 2024-05-28', metadata={'source': './data\\\\20240528130930387.pdf', 'page': 1}), Document(page_content='학부(과): ICT공학부 전공:소프트웨어전공 성명: 박은빈 학번:202004052개인별 수강 과목 리스트\\n전공구분: 심화전공 복수전공: 부전공: \\n마이크로전공: Page 3/5 조회일자 : 2024-05-28\\n마이크로 전공 이수 현황\\n전공명 학수번호 교과명 학점점수성적년도학년학기학점중복신청 구분 개설전공\\n조회된 데이터가 없습니다.\\n주·복수·부전공 내 마이크로 전공 이수 현황\\n전공명 학수번호 교과명 학점점수성적년도학년학기학점중복신청 구분 개설전공\\n조회된 데이터가 없습니다.\\n■ 주·복수·부전공 내 포함된 마이크로 전공은 다전공 인정 개수에 포함되지 않음\\n■ 이수한 마이크로 전공은 추후 증명서에 기재\\n [마이크로전공 이수현황 홈페이지 바로가기]', metadata={'source': './data\\\\20240528130930387.pdf', 'page': 2}), Document(page_content=\"학부(과): ICT공학부 전공:소프트웨어전공 성명: 박은빈 학번:202004052개인별 수강 과목 리스트\\n전공구분: 심화전공 복수전공: 부전공: \\n마이크로전공: Page 4/5 조회일자 : 2024-05-28\\n구분교 양\\n학부\\n기초전공\\n필수\\n(P/F)제1전공 복수전공 부전공\\n자선교직타전총\\n취득\\n학점\\n(예비\\n인정)기초전공기초1전공1기초1전공1기초\\n(필수)일반\\n(선택)균형\\n학점(영역수)계열교양\\n합계 기초2전공2기초2전공2\\n졸업\\n기준1312\\n(4)6 0P6660000130\\n(1) 0000\\n취득 13012\\n(4)6310F18570000109117\\n(1) 0000\\n인정 13012\\n(4)6310F6690000109117\\n(1) 0000\\n미취득 00\\n(0)0 0F000000 ①,②의 요건을 모두 확인하여\\n 졸업 기준을 충족하는지 확인\\n 하시기 바랍니다. 0000②①\\n※ 교직에서 개설된 '교육과미래융합' 교과목을 이수한 경우 균형교양 3영역을 이수한 것으로 인정함\\n   (균형교양의 '인정' 부분에 포함하여 표기되며 교양합계에는 반영하지 않음)\\n※ 졸업기준의‘전공필수’는 졸업종합평가’교과목의 이수 여부(P/F)이며 시행하는 학과에만 적용함\\n  ·졸업종합평가 미시행 학과 소속 학생의 전공필수 항목은 '-' 로 표기되며 졸업사정 시 반영하지 않음\\n※ 전공기초 이수 학점 초과 시 학점 인정 사항 안내\\n  ·제1전공, 복수전공 이수자 : 전공기초 6학점 초과시 전공선택으로 인정(전공선택 초과는 전공기초로 인정 불가함)\\n  ·부전공 이수자 : 전공기초 3학점 초과시 전공선택으로 인정(전공선택 초과는 전공기초로 인정 불가함)\\n※ 교양 중 ‘균형교양’은 ‘학점(영역 수)’로 표기됨\\n  ·‘영역 수’란 단과대학별 4~5개 영역 중 이수한 영역의 총 개수임\\n  ·2017학년도 이후 입학자부터 각 대학별 졸업 이수 기준에 따라 해당 영역별로 각각 1과목 이상 이수하여야 함\\n※ 소속 편제 변경자의 전공 및 교양 이수 기준\\n구분 전공 및 교양교과목 이수 기준\\n2012학년도 이전 입학자 - 입학년도의 교양 및 전공이수 기준 적용\\n2013~2016학년도 입학자- 입학년도의 교양 및 전공이수 기준 적용\\n- 단, 2013~2016학년도 통합학부(과) 입학자의 전공 학점 이수 기준은 입학년도별 학점\\n  이수 기준 또는 2017학년도 이후 입학자의 학점이수 기준 중 하나를 충족할 경우 전공\\n  교과목의 학점 기준을 이수한 것으로 인정\\n※ 2013~2016학년도 통합학부(과)는 경영학부, 실버산업학부, 중국어·문화학과, 중국실용\\n   지역학과, 사회복지학부(주)이며, 사회복지학부(주)는 2016학년도 입학자에 한함\\n   (단, 편제변경 해당 없음)\\n2017학년도 이후 입학자 - 입학년도의 교양 및 전공이수 기준 적용\\n편입학자- 편입학운영규정 편입학연도별 학점 이수 기준 적용\\n (편입학운영규정 <별표 1> 참고)※ 기초교양(구 교양필수) 미취득 학점 관련 안내\\n  1) Academic English 교과목의 학점 및 시수 변경으로 인하여 교양 졸업 기준 학점을 충족하지 못하더라도\\n     Academic English를 포함한 기초교양 교과목을 모두 이수한 경우 기초교양 이수 요건을 충족한 것으로 인정함\\n     (단, 졸업 이수 학점 산출 시에는 최종 이수한 학점으로 인정되므로 학점 계산에 유의)\\n  2) 2016학년도 이전 공대 교양필수 교과목의 폐지 및 대체 교과목(공학수학, 복지와테크놀로지) 지정으로 인하여 교양 졸업\\n     기준 학점을 충족하지 못하더라도 공대 교필 교과목을 모두 이수한 경우 교양필수 이수 요건을 충족한 것으로\\n     인정함\", metadata={'source': './data\\\\20240528130930387.pdf', 'page': 3}), Document(page_content=\"학부(과): ICT공학부 전공:소프트웨어전공 성명: 박은빈 학번:202004052개인별 수강 과목 리스트\\n전공구분: 심화전공 복수전공: 부전공: \\n마이크로전공: Page 5/5 조회일자 : 2024-05-28\\n사회봉사인증 결과 인증\\n※ 사회봉사인증은 2019학년도 이후 입학자부터 필수로 이수하여야 하며, 2013~2018학년도 입학자는 선택하여 이수할 수 있음\\n  (2012학년도 이전 입학자, 편입생, 외국인 학생 및 장애학생은 사회봉사 인증 해당 없음)\\n※ 사회봉사인증은 합격 시 '인증'으로 표기되며, 인증하지 않은 자는 '대상'으로 표기됨\\n■ 위 내용은 졸업이수요건 관리를 위한 참고자료로 이수구분과 재수강처리가 완료 및 확정된 것이 아니므로 취득 학점\\n   및 이수구분이 변경될 수 있으니 개인별 졸업 이수 기준을 반드시 확인하시기 바랍니다.\", metadata={'source': './data\\\\20240528130930387.pdf', 'page': 4})]\n"
     ]
    }
   ],
   "source": [
    "\n",
    "\n",
    "# pdf를 사용해서 pdf(논문)을 모두 로드\n",
    "pdf_files = glob(os.path.join(pdf_directory, '*.pdf'))\n",
    "\n",
    "# Load all PDF files using PyPDFLoader\n",
    "for pdf_file in pdf_files:\n",
    "    loader = PyPDFLoader(pdf_file)\n",
    "    pdf_documents = loader.load()\n",
    "    documents.extend(pdf_documents)\n",
    "    \n",
    "# 텍스트는 RecursiveCharacterTextSplitter를 사용하여 분할\n",
    "chunk_splitter = RecursiveCharacterTextSplitter(chunk_size=1000, chunk_overlap=200)\n",
    "chunks = chunk_splitter.split_documents(documents)\n",
    "print(documents)\n",
    "\n",
    "# embeddings은 OpenAI의 임베딩을 사용\n",
    "# vectordb는 chromadb사용함\n",
    "\n",
    "embeddings = OpenAIEmbeddings(api_key=OPENAI_API_KEY)\n",
    "vectordb = Chroma.from_documents(documents=chunks, embedding=embeddings)\n",
    "retriever = vectordb.as_retriever()"
   ]
  },
  {
   "cell_type": "markdown",
   "metadata": {},
   "source": [
    "### 프롬프트"
   ]
  },
  {
   "cell_type": "code",
   "execution_count": 3,
   "metadata": {},
   "outputs": [],
   "source": [
    "SYS_PROMPT = f\"\"\"\n",
    "    너는 사용자가 강남대학교에서 졸업할 수 있는지 등을 물어보았을때 성실하게 답변해주는 학사지원 인공지능 챗봇이야.\n",
    "    사용자의 수강정보는 강남대학교의 졸업요건과 함께 데이터베이스에 같이 저장되어 있어.\n",
    "    주전공, 복수전공, 등을 나눠서 설명해줘야해\n",
    "    \n",
    "\"\"\"\n",
    "\n",
    "INPUT_PROMPT = f\"\"\"\n",
    "라고 대답했습니다. \\\\\n",
    "이 사용자가 가지고 있는 한국형 외로움을 설명해주세요. \\\\\n",
    "그리고 어떤 대화 상대가 되어주어야 하는지 출력해주세요\n",
    "\"\"\""
   ]
  },
  {
   "cell_type": "markdown",
   "metadata": {},
   "source": [
    "모델 선언"
   ]
  },
  {
   "cell_type": "code",
   "execution_count": 4,
   "metadata": {},
   "outputs": [
    {
     "data": {
      "text/markdown": [
       "> 박은빈 학생의 졸업 가능 여부를 확인하기 위해서는 다음과 같은 졸업 요건을 충족해야 합니다:\n",
       "> \n",
       "> 1. **학점 요건**:\n",
       ">    - 졸업 기준 학점은 130학점입니다.\n",
       ">    - 현재 박은빈 학생은 117학점을 취득한 상태입니다. 따라서 추가로 13학점을 더 이수해야 합니다.\n",
       "> \n",
       "> 2. **전공 요건**:\n",
       ">    - 박은빈 학생은 소프트웨어 전공의 심화전공을 이수 중입니다.\n",
       ">    - 전공 필수 과목 및 전공 선택 과목을 모두 이수해야 합니다.\n",
       ">    - 현재 전공 과목에서 57학점을 이수한 상태입니다.\n",
       "> \n",
       "> 3. **교양 및 기타 요건**:\n",
       ">    - 균형교양, 기초교양 등 교양 과목의 이수 요건을 충족해야 합니다.\n",
       ">    - 사회봉사 인증을 완료해야 합니다. 박은빈 학생은 사회봉사 인증을 완료한 상태입니다.\n",
       "> \n",
       "> 4. **평점 요건**:\n",
       ">    - 전체 평점 평균은 4.38로 매우 우수한 상태입니다.\n",
       "> \n",
       "> 박은빈 학생은 현재 117학점을 이수하였으며, 졸업을 위해서는 추가로 13학점을 더 이수해야 합니다. 또한, 전공 필수 및 선택 과목, 교양 과목의 이수 요건을 모두 충족해야 합니다. 현재까지의 성적과 이수 현황을 보면, 추가 학점을 이수하고 나면 졸업 요건을 충족할 가능성이 높습니다."
      ],
      "text/plain": [
       "<IPython.core.display.Markdown object>"
      ]
     },
     "execution_count": 4,
     "metadata": {},
     "output_type": "execute_result"
    }
   ],
   "source": [
    "# 필요한 라이브러리 및 모듈을 임포트합니다.\n",
    "from langchain_openai import ChatOpenAI\n",
    "from langchain_core.prompts import ChatPromptTemplate\n",
    "from langchain_core.runnables import RunnablePassthrough\n",
    "from langchain_core.output_parsers import StrOutputParser\n",
    "\n",
    "# 프롬프트 템플릿을 정의합니다.\n",
    "# SYS_PROMPT는 시스템 메시지로, 템플릿에 포함됩니다. \n",
    "# {context}와 {question}은 실행 시 동적으로 채워질 자리표시자입니다.\n",
    "template = SYS_PROMPT + '''Answer the question based only on the following cont ext:\n",
    "{context}\n",
    "\n",
    "Question: {question}\n",
    "'''\n",
    "\n",
    "# ChatPromptTemplate.from_template() 메서드를 사용하여 프롬프트 템플릿을 생성합니다.\n",
    "prompt = ChatPromptTemplate.from_template(template)\n",
    "\n",
    "# ChatOpenAI 인스턴스를 생성하여 LLM (대규모 언어 모델)을 설정합니다.\n",
    "# 여기서는 'gpt-4o' 모델을 사용하고, temperature는 0으로 설정하여 출력의 일관성을 높입니다.\n",
    "model = ChatOpenAI(model='gpt-4o', temperature=0)\n",
    "\n",
    "# 문서들을 형식화하는 함수를 정의합니다.\n",
    "# 각 문서의 페이지 내용을 합쳐 하나의 문자열로 반환합니다.\n",
    "def format_docs(docs):\n",
    "    return '\\n\\n'.join(doc.page_content for doc in docs)\n",
    "\n",
    "# RAG (Retrieval-Augmented Generation) 체인을 연결합니다.\n",
    "# 이 체인은 문서 검색, 형식화, 프롬프트 적용, 모델 호출, 출력 파싱의 과정을 거칩니다.\n",
    "rag_chain = (\n",
    "    {'context': retriever | format_docs, 'question': RunnablePassthrough()}  # 'context'는 retriever와 format_docs를 통해 설정되고, 'question'은 그대로 전달됩니다.\n",
    "    | prompt  # 프롬프트 템플릿을 적용합니다.\n",
    "    | model  # 모델을 호출합니다.\n",
    "    | StrOutputParser()  # 출력 파서를 통해 모델의 출력을 문자열로 변환합니다.\n",
    ")\n",
    "\n",
    "# 체인을 실행합니다.\n",
    "# 입력 메시지는 질문과 답변 형식의 텍스트입니다.\n",
    "input_message =  \"\"\"\n",
    "나 졸업 언제쯤 가능할꺼같아?\n",
    "\"\"\"   # 추가적인 입력 프롬프트가 이어집니다.\n",
    "\n",
    "# to_markdown() 함수를 호출하여 체인의 결과를 마크다운 형식으로 변환합니다.\n",
    "to_markdown(rag_chain.invoke(\"input_message\"))\n"
   ]
  }
 ],
 "metadata": {
  "kernelspec": {
   "display_name": "aiservice",
   "language": "python",
   "name": "python3"
  },
  "language_info": {
   "codemirror_mode": {
    "name": "ipython",
    "version": 3
   },
   "file_extension": ".py",
   "mimetype": "text/x-python",
   "name": "python",
   "nbconvert_exporter": "python",
   "pygments_lexer": "ipython3",
   "version": "3.11.8"
  }
 },
 "nbformat": 4,
 "nbformat_minor": 2
}
