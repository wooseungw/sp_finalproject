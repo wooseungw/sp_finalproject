{
 "cells": [
  {
   "cell_type": "code",
   "execution_count": 28,
   "metadata": {},
   "outputs": [],
   "source": [
    "import os\n",
    "from glob import glob\n",
    "from langchain_community.document_loaders import PyPDFLoader\n",
    "from langchain.text_splitter import RecursiveCharacterTextSplitter\n",
    "from langchain_openai import OpenAIEmbeddings, ChatOpenAI\n",
    "from langchain.chains import RetrievalQA\n",
    "from langchain_community.vectorstores import Chroma\n",
    "from dotenv import load_dotenv\n",
    "load_dotenv()\n",
    "\n",
    "import textwrap\n",
    "from IPython.display import display\n",
    "from IPython.display import Markdown\n",
    "\n",
    "\n",
    "def to_markdown(text):\n",
    "  text = text.replace('•', '  *')\n",
    "  return Markdown(textwrap.indent(text, '> ', predicate=lambda _: True))\n",
    "\n",
    "# Initialize variables\n",
    "documents = []\n",
    "OPENAI_API_KEY = os.getenv(\"OPENAI_API_KEY\")\n",
    "\n",
    "# Define the directory containing the PDF files\n",
    "pdf_directory = './data'"
   ]
  },
  {
   "cell_type": "markdown",
   "metadata": {},
   "source": [
    "자료를 벡터 db에 넣기"
   ]
  },
  {
   "cell_type": "markdown",
   "metadata": {},
   "source": [
    "### 수강신청 웹크롤링"
   ]
  },
  {
   "cell_type": "code",
   "execution_count": null,
   "metadata": {},
   "outputs": [],
   "source": [
    "#https://web.kangnam.ac.kr/menu/f19069e6134f8f8aa7f689a4a675e66f.do?paginationInfo.currentPageNo=1&searchMenuSeq=0&searchType=ttl&searchValue=%EC%88%98%EA%B0%95"
   ]
  },
  {
   "cell_type": "markdown",
   "metadata": {},
   "source": [
    "#### 웹크롤링 pdf 다운로더"
   ]
  },
  {
   "cell_type": "code",
   "execution_count": 26,
   "metadata": {},
   "outputs": [
    {
     "name": "stdout",
     "output_type": "stream",
     "text": [
      "All PDFs have been downloaded.\n"
     ]
    }
   ],
   "source": [
    "import requests\n",
    "from bs4 import BeautifulSoup\n",
    "import os\n",
    "\n",
    "# 웹페이지 URL 입력\n",
    "url = 'https://web.kangnam.ac.kr/menu/fd8c126ac0e81458620beb18302bc271.do'\n",
    "\n",
    "# HTTP 요청을 보내 웹페이지 HTML 가져오기\n",
    "response = requests.get(url)\n",
    "response.raise_for_status()  # 요청이 성공했는지 확인\n",
    "\n",
    "# BeautifulSoup을 사용하여 HTML 파싱\n",
    "soup = BeautifulSoup(response.content, 'html.parser')\n",
    "\n",
    "# 모든 PDF 링크 찾기\n",
    "pdf_links = soup.find_all('a', href=lambda href: href and href.endswith('.pdf'))\n",
    "\n",
    "# PDF 파일을 저장할 디렉토리 생성\n",
    "os.makedirs('pdf_files', exist_ok=True)\n",
    "\n",
    "# 각 PDF 파일을 다운로드하여 저장\n",
    "for link in pdf_links:\n",
    "    pdf_url = link['href']\n",
    "    if not pdf_url.startswith('http'):  # 상대 경로인 경우\n",
    "        pdf_url = url + pdf_url\n",
    "    pdf_response = requests.get(pdf_url)\n",
    "    pdf_response.raise_for_status()\n",
    "    \n",
    "    # 파일 이름 추출\n",
    "    pdf_filename = os.path.join('pdf_files', pdf_url.split('/')[-1])\n",
    "    \n",
    "    # PDF 파일 저장\n",
    "    with open(pdf_filename, 'wb') as pdf_file:\n",
    "        pdf_file.write(pdf_response.content)\n",
    "    \n",
    "    print(f'Downloaded: {pdf_filename}')\n",
    "\n",
    "print('All PDFs have been downloaded.')\n"
   ]
  },
  {
   "cell_type": "markdown",
   "metadata": {},
   "source": [
    "#### json(다중 링크) 형태"
   ]
  },
  {
   "cell_type": "code",
   "execution_count": 8,
   "metadata": {},
   "outputs": [],
   "source": [
    "import json\n",
    "import os\n",
    "\n",
    "# JSON 파일이 저장된 디렉토리 경로\n",
    "json_directory = './data/web_crawling_links'\n",
    "json_file = 'cources.json'\n",
    "\n",
    "# JSON 파일에서 URL과 제목 리스트 추출\n",
    "def get_url_title_pairs_from_json(directory, filename):\n",
    "    file_path = os.path.join(directory, filename)\n",
    "    with open(file_path, 'r', encoding='utf-8') as file:\n",
    "        data = json.load(file)\n",
    "        url_title_pairs = [(url, title) for category in data.values() for title, url in category.items()]\n",
    "    return url_title_pairs\n",
    "\n",
    "# URL과 제목 리스트 생성\n",
    "url_title_pairs = get_url_title_pairs_from_json(json_directory, json_file)\n"
   ]
  },
  {
   "cell_type": "code",
   "execution_count": 29,
   "metadata": {},
   "outputs": [
    {
     "name": "stdout",
     "output_type": "stream",
     "text": [
      "Successfully saved 수강_강의계획서.txt\n",
      "Successfully saved 수강_수강신청.txt\n",
      "Successfully saved 수강_계절수업.txt\n",
      "Successfully saved 수강_재수강.txt\n",
      "Successfully saved 수강_결석조치.txt\n",
      "Successfully saved 수강_시험및 성적.txt\n",
      "Successfully saved 수강_학사경고.txt\n",
      "Successfully saved 수강_인정학점.txt\n",
      "Successfully saved 수강_강의평가.txt\n",
      "Successfully saved 수강_수업피드백시스템.txt\n",
      "Successfully saved 수강_수업FAQ.txt\n",
      "Successfully saved 수강_학사구조개편 관련 학사제도 안내.txt\n",
      "Successfully saved 수강_휴강 및 보강.txt\n",
      "Successfully saved 학점교류_국내학점교류.txt\n",
      "Successfully saved 학점교류_국외교환학생.txt\n",
      "Successfully saved 학점교류_국외복수학위.txt\n",
      "Successfully saved 학점교류_어학연수.txt\n",
      "Successfully saved 전공_전공.txt\n",
      "Successfully saved 전공_심화전공.txt\n",
      "Successfully saved 전공_다전공.txt\n",
      "Successfully saved 전공_전공신청 및 변경.txt\n",
      "Successfully saved 다전공_다전공.txt\n",
      "Successfully saved 다전공_복수-부전공.txt\n",
      "Successfully saved 다전공_연계전공.txt\n",
      "Successfully saved 다전공_융합전공.txt\n",
      "Successfully saved 다전공_마이크로전공.txt\n",
      "Successfully saved 다전공_융합설계전공.txt\n",
      "Successfully saved 다전공_자율설계전공.txt\n",
      "Successfully saved 다전공_창의전공.txt\n",
      "Successfully saved 휴복학_휴학.txt\n",
      "Successfully saved 휴복학_복학.txt\n",
      "Successfully saved 휴복학_휴복학FAQ.txt\n",
      "Successfully saved 졸업_졸업.txt\n",
      "Successfully saved 졸업_수료.txt\n",
      "Successfully saved 졸업_조기졸업.txt\n",
      "Successfully saved 졸업_졸업인증제.txt\n",
      "Successfully saved 졸업_졸업종합평가.txt\n",
      "Successfully saved 졸업_졸업FAQ.txt\n",
      "Successfully saved 학적_전부전과.txt\n",
      "Successfully saved 학적_학적부정정.txt\n",
      "Successfully saved 학적_자퇴.txt\n",
      "Successfully saved 학적_제적.txt\n",
      "Successfully saved 학적_재입학.txt\n",
      "Successfully saved 학적_학.석사연계과정.txt\n",
      "Successfully saved 학적_강남인증제.txt\n",
      "Successfully saved 전자출결시스템_전자출결시스템.txt\n",
      "Successfully saved 증명서 발급_증명서 발급.txt\n",
      "Successfully saved ICT융합공학부_소프트웨어전공_교과목해설.txt\n",
      "Successfully saved ICT융합공학부_소프트웨어전공_학습로드맵.txt\n",
      "Successfully saved ICT융합공학부_가상현실전공_교과목해설.txt\n",
      "Successfully saved ICT융합공학부_가상현실전공_학습로드맵.txt\n",
      "Successfully saved ICT융합공학부_전자공학전공_교과목해설.txt\n",
      "Successfully saved ICT융합공학부_전자공학전공_학습로드맵.txt\n",
      "Successfully saved 인공지능융합공학부_인공지능전공_교과목해설.txt\n",
      "Successfully saved 인공지능융합공학부_산업공학전공_교과목해설.txt\n",
      "Successfully saved 인공지능융합공학부_산업공학전공_학습로드맵.txt\n",
      "Successfully saved 인공지능융합공학부_데이터사이언스전공_교과목해설.txt\n",
      "Successfully saved 인공지능융합공학부_데이터사이언스전공_학습로드맵.txt\n",
      "Successfully saved 부동산건설학부_부동산학전공_교과목해설.txt\n",
      "Successfully saved 부동산건설학부_부동산학전공_학습로드맵.txt\n",
      "Successfully saved 부동산건설학부_스마트도시공학전공_교과목해설.txt\n",
      "Successfully saved 부동산건설학부_스마트도시공학전공_학습로드맵.txt\n",
      "Successfully saved 부동산건설학부_건축공학전공_교과목해설.txt\n",
      "Successfully saved 부동산건설학부_건축공학전공_학습로드맵.txt\n",
      "Successfully saved 부동산건설학부_부동산건설학부(2022학년도이전)_부동산건설학부.txt\n"
     ]
    }
   ],
   "source": [
    "import json\n",
    "import os\n",
    "\n",
    "# JSON 파일이 저장된 디렉토리 경로\n",
    "json_directory = './data/web_crawling_links'\n",
    "json_file_paths = ['cources.json', 'college.json']\n",
    "\n",
    "# JSON 파일에서 URL과 제목 리스트 추출\n",
    "def get_url_title_pairs_from_json(directory, filenames):\n",
    "    data = []\n",
    "    for filename in filenames:\n",
    "        file_path = os.path.join(directory, filename)\n",
    "        with open(file_path, 'r', encoding='utf-8') as file:\n",
    "            data.append(json.load(file))\n",
    "    return data\n",
    "\n",
    "# 텍스트 파일을 저장할 디렉토리 경로\n",
    "text_directory = './crawled_texts'\n",
    "os.makedirs(text_directory, exist_ok=True)\n",
    "\n",
    "# 텍스트 파일로 저장하는 함수\n",
    "def save_to_text_file(data, parent_key=''):\n",
    "    if isinstance(data, list):\n",
    "        for item in data:\n",
    "            save_to_text_file(item)\n",
    "    elif isinstance(data, dict):\n",
    "        for key, value in data.items():\n",
    "            if isinstance(value, dict):\n",
    "                # 재귀적으로 하위 딕셔너리를 처리\n",
    "                new_key = f\"{parent_key}_{key}\" if parent_key else key\n",
    "                save_to_text_file(value, new_key)\n",
    "            else:\n",
    "                # 파일명 생성\n",
    "                file_name = f\"{parent_key}_{key}.txt\"\n",
    "                file_path = os.path.join(text_directory, file_name)\n",
    "                # 텍스트 파일로 저장\n",
    "                with open(file_path, 'w', encoding='utf-8') as file:\n",
    "                    file.write(value)\n",
    "                print(f\"Successfully saved {file_name}\")\n",
    "    else:\n",
    "        # 최상위가 dict가 아니면 처리하지 않음 (필요시 처리 로직 추가 가능)\n",
    "        pass\n",
    "\n",
    "# JSON 데이터를 텍스트 파일로 저장\n",
    "data = get_url_title_pairs_from_json(json_directory, json_file_paths)\n",
    "save_to_text_file(data)\n"
   ]
  },
  {
   "cell_type": "markdown",
   "metadata": {},
   "source": [
    "### Embedding"
   ]
  },
  {
   "cell_type": "code",
   "execution_count": 10,
   "metadata": {},
   "outputs": [
    {
     "name": "stderr",
     "output_type": "stream",
     "text": [
      "Ignoring wrong pointing object 7 0 (offset 0)\n",
      "Ignoring wrong pointing object 9 0 (offset 0)\n",
      "Ignoring wrong pointing object 16 0 (offset 0)\n",
      "Ignoring wrong pointing object 18 0 (offset 0)\n",
      "Ignoring wrong pointing object 23 0 (offset 0)\n",
      "Ignoring wrong pointing object 37 0 (offset 0)\n"
     ]
    }
   ],
   "source": [
    "from langchain_community.document_loaders import PyPDFLoader\n",
    "from langchain_openai import OpenAIEmbeddings\n",
    "from langchain_community.vectorstores import Chroma\n",
    "from langchain_text_splitters import RecursiveCharacterTextSplitter\n",
    "from langchain.schema import Document\n",
    "import os\n",
    "from glob import glob\n",
    "\n",
    "# PDF와 텍스트 파일을 모두 로드할 디렉토리 경로\n",
    "pdf_directory = \"./data\"\n",
    "text_directory = \"./crawled_texts\"\n",
    "\n",
    "# PDF 파일들을 로드하여 분할한 뒤 텍스트를 벡터로 변환하여 DB에 저장\n",
    "def load_and_index_documents(pdf_directory, text_directory):\n",
    "    documents = []\n",
    "\n",
    "    # PDF 파일들을 로드하여 분할\n",
    "    pdf_files = glob(os.path.join(pdf_directory, '*.pdf'))\n",
    "    for pdf_file in pdf_files:\n",
    "        loader = PyPDFLoader(pdf_file)\n",
    "        pdf_documents = loader.load()\n",
    "        documents.extend(pdf_documents)\n",
    "\n",
    "    # 텍스트 파일들을 로드하여 분할\n",
    "    text_files = glob(os.path.join(text_directory, '*.txt'))\n",
    "    for text_file in text_files:\n",
    "        with open(text_file, 'r', encoding='utf-8') as file:\n",
    "            text = file.read()\n",
    "            # 텍스트를 Document 객체로 변환\n",
    "            text_document = Document(page_content=text, metadata={\"source\": text_file})\n",
    "            documents.append(text_document)\n",
    "\n",
    "    # 분할된 텍스트를 벡터로 변환하여 ChromaDB에 저장\n",
    "    chunk_splitter = RecursiveCharacterTextSplitter(chunk_size=1000, chunk_overlap=200)\n",
    "    chunks = chunk_splitter.split_documents(documents)\n",
    "    \n",
    "    embeddings = OpenAIEmbeddings(api_key=OPENAI_API_KEY)\n",
    "    vectordb = Chroma.from_documents(documents=chunks, embedding=embeddings)\n",
    "    retriever = vectordb.as_retriever()\n",
    "    \n",
    "    return retriever\n",
    "\n",
    "# Load and index documents from both PDF and text files\n",
    "retriever = load_and_index_documents(pdf_directory, text_directory)\n"
   ]
  },
  {
   "cell_type": "markdown",
   "metadata": {},
   "source": [
    "### 프롬프트"
   ]
  },
  {
   "cell_type": "code",
   "execution_count": 11,
   "metadata": {},
   "outputs": [],
   "source": [
    "SYS_PROMPT = f\"\"\"\n",
    "    너는 사용자가 강남대학교에서 졸업할 수 있는지 등을 물어보았을때 성실하게 답변해주는 학사지원 인공지능 챗봇이야.\n",
    "    사용자의 수강정보는 강남대학교의 졸업요건과 함께 데이터베이스에 같이 저장되어 있어.\n",
    "    너는 \n",
    "    \n",
    "\"\"\"\n",
    "\n",
    "INPUT_PROMPT = f\"\"\"\n",
    "라고 대답했습니다. \\\\\n",
    "\"\"\""
   ]
  },
  {
   "cell_type": "markdown",
   "metadata": {},
   "source": [
    "모델 선언"
   ]
  },
  {
   "cell_type": "code",
   "execution_count": 12,
   "metadata": {},
   "outputs": [
    {
     "data": {
      "text/markdown": [
       "> 안녕하세요! 강남대학교 학사지원 인공지능 챗봇입니다. 졸업 요건이나 수강 정보에 대해 궁금한 점이 있으시면 언제든지 물어보세요. \n",
       "> \n",
       "> 사용자님의 수강 정보와 강남대학교의 졸업 요건을 바탕으로 성실하게 답변해드리겠습니다. \n",
       "> \n",
       "> 무엇을 도와드릴까요? 예를 들어, \"졸업 요건을 충족했는지 확인해 주세요\" 또는 \"현재 수강 중인 과목이 졸업 요건에 포함되는지 알고 싶어요\"와 같은 질문을 하실 수 있습니다.\n",
       "> \n",
       "> 사용자 입력 메시지를 입력해 주세요."
      ],
      "text/plain": [
       "<IPython.core.display.Markdown object>"
      ]
     },
     "execution_count": 12,
     "metadata": {},
     "output_type": "execute_result"
    }
   ],
   "source": [
    "# 필요한 라이브러리 및 모듈을 임포트합니다.\n",
    "from langchain_openai import ChatOpenAI\n",
    "from langchain_core.prompts import ChatPromptTemplate\n",
    "from langchain_core.runnables import RunnablePassthrough\n",
    "from langchain_core.output_parsers import StrOutputParser\n",
    "\n",
    "# 프롬프트 템플릿을 정의합니다.\n",
    "# SYS_PROMPT는 시스템 메시지로, 템플릿에 포함됩니다. \n",
    "# {context}와 {question}은 실행 시 동적으로 채워질 자리표시자입니다.\n",
    "template = SYS_PROMPT + '''\n",
    "1.강남대학교 AI로드맵을 위한 참고 자료.:{context}\n",
    "2.사용자 입력 메세지 : {question}\n",
    "'''\n",
    "\n",
    "# ChatPromptTemplate.from_template() 메서드를 사용하여 프롬프트 템플릿을 생성합니다.\n",
    "prompt = ChatPromptTemplate.from_template(template)\n",
    "\n",
    "# ChatOpenAI 인스턴스를 생성하여 LLM (대규모 언어 모델)을 설정합니다.\n",
    "# 여기서는 'gpt-4o' 모델을 사용하고, temperature는 0으로 설정하여 출력의 일관성을 높입니다.\n",
    "model = ChatOpenAI(model='gpt-4o', temperature=0)\n",
    "\n",
    "# 문서들을 형식화하는 함수를 정의합니다.\n",
    "# 각 문서의 페이지 내용을 합쳐 하나의 문자열로 반환합니다.\n",
    "def format_docs(docs):\n",
    "    return '\\n\\n'.join(doc.page_content for doc in docs)\n",
    "\n",
    "# RAG (Retrieval-Augmented Generation) 체인을 연결합니다.\n",
    "# 이 체인은 문서 검색, 형식화, 프롬프트 적용, 모델 호출, 출력 파싱의 과정을 거칩니다.\n",
    "rag_chain = (\n",
    "    {'context': retriever | format_docs, 'question': RunnablePassthrough()}  # 'context'는 retriever와 format_docs를 통해 설정되고, 'question'은 그대로 전달됩니다.\n",
    "    | prompt  # 프롬프트 템플릿을 적용합니다.\n",
    "    | model  # 모델을 호출합니다.\n",
    "    | StrOutputParser()  # 출력 파서를 통해 모델의 출력을 문자열로 변환합니다.\n",
    ")\n",
    "\n",
    "# 체인을 실행합니다.\n",
    "# 입력 메시지는 질문과 답변 형식의 텍스트입니다.\n",
    "input_message =  \"\"\"\n",
    "나 졸업 언제쯤 가능할꺼같아? 한글로 대답해줘\n",
    "\"\"\"   # 추가적인 입력 프롬프트가 이어집니다.\n",
    "\n",
    "# to_markdown() 함수를 호출하여 체인의 결과를 마크다운 형식으로 변환합니다.\n",
    "to_markdown(rag_chain.invoke(\"input_message\"))\n"
   ]
  },
  {
   "cell_type": "code",
   "execution_count": 6,
   "metadata": {},
   "outputs": [
    {
     "name": "stderr",
     "output_type": "stream",
     "text": [
      "/opt/anaconda3/envs/svp_env/lib/python3.9/site-packages/tqdm/auto.py:21: TqdmWarning: IProgress not found. Please update jupyter and ipywidgets. See https://ipywidgets.readthedocs.io/en/stable/user_install.html\n",
      "  from .autonotebook import tqdm as notebook_tqdm\n"
     ]
    },
    {
     "name": "stdout",
     "output_type": "stream",
     "text": [
      "Running on local URL:  http://127.0.0.1:7860\n",
      "\n",
      "To create a public link, set `share=True` in `launch()`.\n"
     ]
    },
    {
     "data": {
      "text/html": [
       "<div><iframe src=\"http://127.0.0.1:7860/\" width=\"100%\" height=\"500\" allow=\"autoplay; camera; microphone; clipboard-read; clipboard-write;\" frameborder=\"0\" allowfullscreen></iframe></div>"
      ],
      "text/plain": [
       "<IPython.core.display.HTML object>"
      ]
     },
     "metadata": {},
     "output_type": "display_data"
    },
    {
     "data": {
      "text/plain": []
     },
     "execution_count": 6,
     "metadata": {},
     "output_type": "execute_result"
    },
    {
     "name": "stderr",
     "output_type": "stream",
     "text": [
      "/opt/anaconda3/envs/svp_env/lib/python3.9/site-packages/langchain_core/_api/deprecation.py:119: LangChainDeprecationWarning: The method `BaseChatModel.__call__` was deprecated in langchain-core 0.1.7 and will be removed in 0.3.0. Use invoke instead.\n",
      "  warn_deprecated(\n"
     ]
    }
   ],
   "source": [
    "import gradio as gr\n",
    "from PyPDF2 import PdfReader\n",
    "from langchain_openai import ChatOpenAI\n",
    "from langchain_core.prompts import ChatPromptTemplate\n",
    "from langchain_core.runnables import RunnablePassthrough\n",
    "from langchain_core.output_parsers import StrOutputParser\n",
    "from langchain_core.messages import AIMessage, HumanMessage, SystemMessage\n",
    "import json\n",
    "\n",
    "template = '''Answer the question based only on the following context: {context}\n",
    "\n",
    "Question: {question}\n",
    "'''\n",
    "prompt = ChatPromptTemplate.from_template(template)\n",
    "\n",
    "# 모델 설정\n",
    "model = ChatOpenAI(model='gpt-4', temperature=0)\n",
    "\n",
    "# 문서들을 형식화하는 함수 정의\n",
    "def format_docs(docs):\n",
    "    return '\\n\\n'.join(doc.page_content for doc in docs)\n",
    "\n",
    "# PDF 파일에서 텍스트를 추출하는 함수\n",
    "def extract_text_from_pdf(pdf_path):\n",
    "    reader = PdfReader(pdf_path)\n",
    "    text = \"\"\n",
    "    for page in reader.pages:\n",
    "        text += page.extract_text()\n",
    "    return text\n",
    "\n",
    "# 사용자의 질문에 대한 답변을 생성하는 함수\n",
    "def answer_question(pdf_path, question):\n",
    "    # PDF에서 텍스트 추출\n",
    "    context = extract_text_from_pdf(pdf_path)\n",
    "    \n",
    "    # 프롬프트 생성\n",
    "    formatted_prompt = prompt.format_prompt(context=context, question=question)\n",
    "    \n",
    "    # System 및 Human 메시지 생성\n",
    "    system_message = SystemMessage(content=SYS_PROMPT)\n",
    "    user_message = HumanMessage(content=formatted_prompt.to_string())\n",
    "    \n",
    "    # 모델 호출\n",
    "    response = model([system_message, user_message])\n",
    "    return response.content\n",
    "\n",
    "# 그라디오 인터페이스 설정\n",
    "iface = gr.Interface(\n",
    "    fn=answer_question,\n",
    "    inputs=[\n",
    "        gr.File(label=\"Upload PDF\", type=\"filepath\"),\n",
    "        gr.Textbox(label=\"Question\", lines=2)\n",
    "    ],\n",
    "    outputs=\"text\",\n",
    "    title=\"PDF QA Chatbot\",\n",
    "    description=\"Upload a PDF and ask questions about its content.\"\n",
    ")\n",
    "\n",
    "# 그라디오 인터페이스 실행\n",
    "iface.launch()\n"
   ]
  },
  {
   "cell_type": "code",
   "execution_count": null,
   "metadata": {},
   "outputs": [],
   "source": []
  }
 ],
 "metadata": {
  "kernelspec": {
   "display_name": "aiservice",
   "language": "python",
   "name": "python3"
  },
  "language_info": {
   "codemirror_mode": {
    "name": "ipython",
    "version": 3
   },
   "file_extension": ".py",
   "mimetype": "text/x-python",
   "name": "python",
   "nbconvert_exporter": "python",
   "pygments_lexer": "ipython3",
   "version": "3.9.19"
  }
 },
 "nbformat": 4,
 "nbformat_minor": 2
}
