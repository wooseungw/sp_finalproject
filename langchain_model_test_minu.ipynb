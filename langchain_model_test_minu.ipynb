{
 "cells": [
  {
   "cell_type": "code",
   "execution_count": 11,
   "metadata": {},
   "outputs": [],
   "source": [
    "import os\n",
    "from glob import glob\n",
    "from langchain_community.document_loaders import PyPDFLoader\n",
    "from langchain.text_splitter import RecursiveCharacterTextSplitter\n",
    "from langchain_openai import OpenAIEmbeddings, ChatOpenAI\n",
    "from langchain.chains import RetrievalQA\n",
    "from langchain_community.vectorstores import Chroma\n",
    "from dotenv import load_dotenv\n",
    "load_dotenv()\n",
    "\n",
    "import textwrap\n",
    "from IPython.display import display\n",
    "from IPython.display import Markdown\n",
    "\n",
    "\n",
    "def to_markdown(text):\n",
    "  text = text.replace('•', '  *')\n",
    "  return Markdown(textwrap.indent(text, '> ', predicate=lambda _: True))\n",
    "\n",
    "# Initialize variables\n",
    "documents = []\n",
    "OPENAI_API_KEY = os.getenv(\"OPENAI_API_KEY\")\n",
    "\n",
    "# Define the directory containing the PDF files\n",
    "pdf_directory = './data'"
   ]
  },
  {
   "cell_type": "markdown",
   "metadata": {},
   "source": [
    "자료를 벡터 db에 넣기"
   ]
  },
  {
   "cell_type": "code",
   "execution_count": 12,
   "metadata": {},
   "outputs": [
    {
     "name": "stderr",
     "output_type": "stream",
     "text": [
      "Ignoring wrong pointing object 7 0 (offset 0)\n",
      "Ignoring wrong pointing object 9 0 (offset 0)\n",
      "Ignoring wrong pointing object 16 0 (offset 0)\n",
      "Ignoring wrong pointing object 18 0 (offset 0)\n",
      "Ignoring wrong pointing object 23 0 (offset 0)\n",
      "Ignoring wrong pointing object 37 0 (offset 0)\n"
     ]
    }
   ],
   "source": [
    "# pdf를 사용해서 pdf(논문)을 모두 로드\n",
    "pdf_files = glob(os.path.join(pdf_directory, '*.pdf'))\n",
    "\n",
    "# Load all PDF files using PyPDFLoader\n",
    "for pdf_file in pdf_files:\n",
    "    loader = PyPDFLoader(pdf_file)\n",
    "    pdf_documents = loader.load()\n",
    "    documents.extend(pdf_documents)\n",
    "    \n",
    "# 텍스트는 RecursiveCharacterTextSplitter를 사용하여 분할\n",
    "chunk_splitter = RecursiveCharacterTextSplitter(chunk_size=1000, chunk_overlap=200)\n",
    "chunks = chunk_splitter.split_documents(documents)\n",
    "\n",
    "# embeddings은 OpenAI의 임베딩을 사용\n",
    "# vectordb는 chromadb사용함\n",
    "\n",
    "embeddings = OpenAIEmbeddings(api_key=OPENAI_API_KEY)\n",
    "vectordb = Chroma.from_documents(documents=chunks, embedding=embeddings)\n",
    "retriever = vectordb.as_retriever()"
   ]
  },
  {
   "cell_type": "markdown",
   "metadata": {},
   "source": [
    "### 수강신청 웹크롤링"
   ]
  },
  {
   "cell_type": "code",
   "execution_count": null,
   "metadata": {},
   "outputs": [],
   "source": [
    "#https://web.kangnam.ac.kr/menu/f19069e6134f8f8aa7f689a4a675e66f.do?paginationInfo.currentPageNo=1&searchMenuSeq=0&searchType=ttl&searchValue=%EC%88%98%EA%B0%95"
   ]
  },
  {
   "cell_type": "markdown",
   "metadata": {},
   "source": [
    "#### 웹크롤링 pdf 다운로더"
   ]
  },
  {
   "cell_type": "code",
   "execution_count": 26,
   "metadata": {},
   "outputs": [
    {
     "name": "stdout",
     "output_type": "stream",
     "text": [
      "All PDFs have been downloaded.\n"
     ]
    }
   ],
   "source": [
    "import requests\n",
    "from bs4 import BeautifulSoup\n",
    "import os\n",
    "\n",
    "# 웹페이지 URL 입력\n",
    "url = 'https://web.kangnam.ac.kr/menu/fd8c126ac0e81458620beb18302bc271.do'\n",
    "\n",
    "# HTTP 요청을 보내 웹페이지 HTML 가져오기\n",
    "response = requests.get(url)\n",
    "response.raise_for_status()  # 요청이 성공했는지 확인\n",
    "\n",
    "# BeautifulSoup을 사용하여 HTML 파싱\n",
    "soup = BeautifulSoup(response.content, 'html.parser')\n",
    "\n",
    "# 모든 PDF 링크 찾기\n",
    "pdf_links = soup.find_all('a', href=lambda href: href and href.endswith('.pdf'))\n",
    "\n",
    "# PDF 파일을 저장할 디렉토리 생성\n",
    "os.makedirs('pdf_files', exist_ok=True)\n",
    "\n",
    "# 각 PDF 파일을 다운로드하여 저장\n",
    "for link in pdf_links:\n",
    "    pdf_url = link['href']\n",
    "    if not pdf_url.startswith('http'):  # 상대 경로인 경우\n",
    "        pdf_url = url + pdf_url\n",
    "    pdf_response = requests.get(pdf_url)\n",
    "    pdf_response.raise_for_status()\n",
    "    \n",
    "    # 파일 이름 추출\n",
    "    pdf_filename = os.path.join('pdf_files', pdf_url.split('/')[-1])\n",
    "    \n",
    "    # PDF 파일 저장\n",
    "    with open(pdf_filename, 'wb') as pdf_file:\n",
    "        pdf_file.write(pdf_response.content)\n",
    "    \n",
    "    print(f'Downloaded: {pdf_filename}')\n",
    "\n",
    "print('All PDFs have been downloaded.')\n"
   ]
  },
  {
   "cell_type": "markdown",
   "metadata": {},
   "source": [
    "#### json(다중 링크) 형태"
   ]
  },
  {
   "cell_type": "code",
   "execution_count": 41,
   "metadata": {},
   "outputs": [],
   "source": [
    "import json\n",
    "import os\n",
    "\n",
    "# JSON 파일이 저장된 디렉토리 경로\n",
    "json_directory = './data/web_crawling_data'\n",
    "json_file = 'cources.json'\n",
    "\n",
    "# JSON 파일에서 URL과 제목 리스트 추출\n",
    "def get_url_title_pairs_from_json(directory, filename):\n",
    "    file_path = os.path.join(directory, filename)\n",
    "    with open(file_path, 'r', encoding='utf-8') as file:\n",
    "        data = json.load(file)\n",
    "        url_title_pairs = [(url, title) for category in data.values() for title, url in category.items()]\n",
    "    return url_title_pairs\n",
    "\n",
    "# URL과 제목 리스트 생성\n",
    "url_title_pairs = get_url_title_pairs_from_json(json_directory, json_file)\n"
   ]
  },
  {
   "cell_type": "code",
   "execution_count": 42,
   "metadata": {},
   "outputs": [
    {
     "name": "stdout",
     "output_type": "stream",
     "text": [
      "Successfully saved text from https://web.kangnam.ac.kr/menu/fd8c126ac0e81458620beb18302bc271.do?encMenuSeq=a5a508e7e77c5c739b990f33188efdac to ./crawled_texts/강의계획서.txt\n",
      "Successfully saved text from https://web.kangnam.ac.kr/menu/fd8c126ac0e81458620beb18302bc271.do?encMenuSeq=0eb6196506a4fcd8504a16f2fdcfb011 to ./crawled_texts/수강신청.txt\n",
      "Successfully saved text from https://web.kangnam.ac.kr/menu/fd8c126ac0e81458620beb18302bc271.do?encMenuSeq=2c831137273abadb3d773098e872f607 to ./crawled_texts/계절수업.txt\n",
      "Successfully saved text from https://web.kangnam.ac.kr/menu/fd8c126ac0e81458620beb18302bc271.do?encMenuSeq=d2fca573c753f30f9ae5c79dd740bdcd to ./crawled_texts/재수강.txt\n",
      "Successfully saved text from https://web.kangnam.ac.kr/menu/fd8c126ac0e81458620beb18302bc271.do?encMenuSeq=0c1a4788f43e44817e2cb11ffca2a77d to ./crawled_texts/결석조치.txt\n",
      "Successfully saved text from https://web.kangnam.ac.kr/menu/fd8c126ac0e81458620beb18302bc271.do?encMenuSeq=84ac874658806a5357608340a8314f99 to ./crawled_texts/시험및_성적.txt\n",
      "Successfully saved text from https://web.kangnam.ac.kr/menu/fd8c126ac0e81458620beb18302bc271.do?encMenuSeq=3ec4afcce75af2be4d1b20761583c7e0 to ./crawled_texts/학사경고.txt\n",
      "Successfully saved text from https://web.kangnam.ac.kr/menu/fd8c126ac0e81458620beb18302bc271.do?encMenuSeq=fcbd4013ab5b5238ed8ca9186a6bfb32 to ./crawled_texts/인정학점.txt\n",
      "Successfully saved text from https://web.kangnam.ac.kr/menu/fd8c126ac0e81458620beb18302bc271.do?encMenuSeq=d3fb37ad56f7822e9b4d2a8d49b9da91 to ./crawled_texts/강의평가.txt\n",
      "Successfully saved text from https://web.kangnam.ac.kr/menu/fd8c126ac0e81458620beb18302bc271.do?encMenuSeq=24d7e901b0c885e105936c23d372cfaa to ./crawled_texts/수업피드백시스템.txt\n",
      "Successfully saved text from https://web.kangnam.ac.kr/menu/fd8c126ac0e81458620beb18302bc271.do?encMenuSeq=29647ef31b4916277efd3687336eb5b8 to ./crawled_texts/수업FAQ.txt\n",
      "Successfully saved text from https://web.kangnam.ac.kr/menu/fd8c126ac0e81458620beb18302bc271.do?encMenuSeq=f3089e2d72b071f8c333351f0f8adc0c to ./crawled_texts/학사구조개편_관련_학사제도_안내.txt\n",
      "Successfully saved text from https://web.kangnam.ac.kr/menu/fd8c126ac0e81458620beb18302bc271.do?encMenuSeq=605b4e3b447769c2f46041892dde5806 to ./crawled_texts/휴강_및_보강.txt\n",
      "Successfully saved text from https://web.kangnam.ac.kr/menu/b6cdaa2d20ed253e51964ec6c6aeba1e.do?encMenuSeq=cdc1052ad49f92a86b96a4c1fc15d382 to ./crawled_texts/국내학점교류.txt\n",
      "Successfully saved text from https://web.kangnam.ac.kr/menu/b6cdaa2d20ed253e51964ec6c6aeba1e.do?encMenuSeq=1e799639036bf6f88225076ae88b10c1 to ./crawled_texts/국외교환학생.txt\n",
      "Successfully saved text from https://web.kangnam.ac.kr/menu/b6cdaa2d20ed253e51964ec6c6aeba1e.do?encMenuSeq=100f5127dbee23bb3415c5cf56df40c0 to ./crawled_texts/국외복수학위.txt\n",
      "Successfully saved text from https://web.kangnam.ac.kr/menu/b6cdaa2d20ed253e51964ec6c6aeba1e.do?encMenuSeq=6962b3e0e6c7e477f53fd9b87bf2229a to ./crawled_texts/어학연수.txt\n",
      "Successfully saved text from https://web.kangnam.ac.kr/menu/f18a64130de18975bfc2127ba53ee768.do?encMenuSeq=0e32e66ae81646263c0e491bdf9bf7dd to ./crawled_texts/전공.txt\n",
      "Successfully saved text from https://web.kangnam.ac.kr/menu/f18a64130de18975bfc2127ba53ee768.do?encMenuSeq=12003a3677f62e0b9e5c28d263d371ed to ./crawled_texts/심화전공.txt\n",
      "Successfully saved text from https://web.kangnam.ac.kr/menu/f18a64130de18975bfc2127ba53ee768.do?encMenuSeq=41c95470e1b76bb4151da6b21b141839 to ./crawled_texts/다전공.txt\n",
      "Successfully saved text from https://web.kangnam.ac.kr/menu/f18a64130de18975bfc2127ba53ee768.do?encMenuSeq=117b234478b2ed40cd4f2ac1f6107a44 to ./crawled_texts/전공신청_및_변경.txt\n",
      "Successfully saved text from https://web.kangnam.ac.kr/menu/b2d1211af4999ac7a3ae1e11ad581860.do?encMenuSeq=41c95470e1b76bb4151da6b21b141839 to ./crawled_texts/다전공.txt\n",
      "Successfully saved text from https://web.kangnam.ac.kr/menu/b2d1211af4999ac7a3ae1e11ad581860.do?encMenuSeq=5a4ec8380c0d4ab92e55d421383fa7b8 to ./crawled_texts/복수_부전공.txt\n",
      "Successfully saved text from https://web.kangnam.ac.kr/menu/b2d1211af4999ac7a3ae1e11ad581860.do?encMenuSeq=ec6bab4c4ce0123253ff1e9999bf8727 to ./crawled_texts/연계전공.txt\n",
      "Successfully saved text from https://web.kangnam.ac.kr/menu/b2d1211af4999ac7a3ae1e11ad581860.do?encMenuSeq=737ce5f90bcc5a4e847ab66d88c76ebe to ./crawled_texts/융합전공.txt\n",
      "Successfully saved text from https://web.kangnam.ac.kr/menu/b2d1211af4999ac7a3ae1e11ad581860.do?encMenuSeq=4ebe4849055d34651a1c6477b907f0a1 to ./crawled_texts/마이크로전공.txt\n",
      "Successfully saved text from https://web.kangnam.ac.kr/menu/b2d1211af4999ac7a3ae1e11ad581860.do?encMenuSeq=1c72e2708fb6fc5b17076298ce96a41e to ./crawled_texts/융합설계전공.txt\n",
      "Successfully saved text from https://web.kangnam.ac.kr/menu/b2d1211af4999ac7a3ae1e11ad581860.do?encMenuSeq=c0ae07494a763fc6ae9695076f2b1b52 to ./crawled_texts/자율설계전공.txt\n",
      "Successfully saved text from https://web.kangnam.ac.kr/menu/b2d1211af4999ac7a3ae1e11ad581860.do?encMenuSeq=5edffcf82e9d67ae663c39db1afe1fef to ./crawled_texts/창의전공.txt\n",
      "Successfully saved text from https://web.kangnam.ac.kr/menu/12d2ee44cc4e95562f84a01bf953a054.do?encMenuSeq=95ab57ae199df28a4812e34d2267ae25 to ./crawled_texts/휴학.txt\n",
      "Successfully saved text from https://web.kangnam.ac.kr/menu/12d2ee44cc4e95562f84a01bf953a054.do?encMenuSeq=a2643e9dc95f1078bfec0078c09a6ac2 to ./crawled_texts/복학.txt\n",
      "Successfully saved text from https://web.kangnam.ac.kr/menu/12d2ee44cc4e95562f84a01bf953a054.do?encMenuSeq=69fb0886aeb8aa9d6162c7145479945f to ./crawled_texts/휴복학FAQ.txt\n"
     ]
    }
   ],
   "source": [
    "import requests\n",
    "from bs4 import BeautifulSoup\n",
    "\n",
    "# 크롤링한 텍스트를 저장할 디렉토리 경로\n",
    "text_directory = './crawled_texts'\n",
    "os.makedirs(text_directory, exist_ok=True)\n",
    "\n",
    "# 파일명으로 사용할 유효한 문자열 생성\n",
    "def create_valid_filename(title):\n",
    "    # 파일명으로 사용 불가능한 문자 제거\n",
    "    return \"\".join([c if c.isalnum() else \"_\" for c in title])\n",
    "\n",
    "# URL을 통해 웹 페이지를 크롤링하고 텍스트 저장\n",
    "def crawl_and_save_text(url, title, directory):\n",
    "    try:\n",
    "        response = requests.get(url)\n",
    "        response.raise_for_status()  # 요청이 성공했는지 확인\n",
    "        soup = BeautifulSoup(response.content, 'html.parser')\n",
    "        \n",
    "        # 웹 페이지의 텍스트 추출 (여기서는 <body> 태그 내의 텍스트를 추출)\n",
    "        text = soup.get_text(separator='\\n', strip=True)\n",
    "        \n",
    "        # 파일명 생성 (제목을 이용하여 고유한 파일명 생성)\n",
    "        valid_filename = create_valid_filename(title)\n",
    "        file_name = os.path.join(directory, f\"{valid_filename}.txt\")\n",
    "        \n",
    "        # 텍스트 파일로 저장\n",
    "        with open(file_name, 'w', encoding='utf-8') as file:\n",
    "            file.write(text)\n",
    "            \n",
    "        print(f\"Successfully saved text from {url} to {file_name}\")\n",
    "    except Exception as e:\n",
    "        print(f\"Failed to crawl {url}: {e}\")\n",
    "\n",
    "# 모든 URL과 제목에 대해 크롤링 및 텍스트 저장\n",
    "for url, title in url_title_pairs:\n",
    "    crawl_and_save_text(url, title, text_directory)\n"
   ]
  },
  {
   "cell_type": "markdown",
   "metadata": {},
   "source": [
    "### 프롬프트"
   ]
  },
  {
   "cell_type": "code",
   "execution_count": 22,
   "metadata": {},
   "outputs": [],
   "source": [
    "SYS_PROMPT = f\"\"\"\n",
    "    너는 사용자가 강남대학교에서 졸업할 수 있는지 등을 물어보았을때 성실하게 답변해주는 학사지원 인공지능 챗봇이야.\n",
    "    사용자의 수강정보는 강남대학교의 졸업요건과 함께 데이터베이스에 같이 저장되어 있어.\n",
    "    주전공, 복수전공, 등을 나눠서 설명해줘야해.\n",
    "    \n",
    "\"\"\"\n",
    "\n",
    "INPUT_PROMPT = f\"\"\"\n",
    "라고 대답했습니다. \\\\\n",
    "\"\"\""
   ]
  },
  {
   "cell_type": "markdown",
   "metadata": {},
   "source": [
    "모델 선언"
   ]
  },
  {
   "cell_type": "code",
   "execution_count": 23,
   "metadata": {},
   "outputs": [
    {
     "data": {
      "text/markdown": [
       "> 안녕하세요! 강남대학교 학사지원 인공지능 챗봇입니다. 강남대학교에서 졸업할 수 있는지에 대한 질문이나 수강신청 관련 정보에 대해 도움을 드리겠습니다. 사용자의 주전공, 복수전공, 수강 과목 등을 기반으로 졸업 요건을 확인해드릴 수 있습니다.\n",
       "> \n",
       "> 질문이 있으시면 아래와 같이 구체적으로 말씀해 주세요:\n",
       "> 1. 주전공과 복수전공이 무엇인지\n",
       "> 2. 현재까지 이수한 학점과 과목\n",
       "> 3. 졸업 요건에 대한 구체적인 질문\n",
       "> \n",
       "> 예를 들어:\n",
       "> - \"저는 종합정보시스템 전공이고, 복수전공으로 반도체시스템융합을 하고 있습니다. 졸업하려면 어떤 과목을 더 들어야 하나요?\"\n",
       "> - \"창업동아리 실습 신청 절차가 궁금합니다.\"\n",
       "> \n",
       "> 어떤 질문이든지 성실하게 답변해드리겠습니다!"
      ],
      "text/plain": [
       "<IPython.core.display.Markdown object>"
      ]
     },
     "execution_count": 23,
     "metadata": {},
     "output_type": "execute_result"
    }
   ],
   "source": [
    "# 필요한 라이브러리 및 모듈을 임포트합니다.\n",
    "from langchain_openai import ChatOpenAI\n",
    "from langchain_core.prompts import ChatPromptTemplate\n",
    "from langchain_core.runnables import RunnablePassthrough\n",
    "from langchain_core.output_parsers import StrOutputParser\n",
    "\n",
    "# 프롬프트 템플릿을 정의합니다.\n",
    "# SYS_PROMPT는 시스템 메시지로, 템플릿에 포함됩니다. \n",
    "# {context}와 {question}은 실행 시 동적으로 채워질 자리표시자입니다.\n",
    "template = SYS_PROMPT + '''강남대학교 2024-1학기 강남대학교 수강신청관련된 자료입니다.:\n",
    "{context}\n",
    "\n",
    "Question: {question}\n",
    "'''\n",
    "\n",
    "# ChatPromptTemplate.from_template() 메서드를 사용하여 프롬프트 템플릿을 생성합니다.\n",
    "prompt = ChatPromptTemplate.from_template(template)\n",
    "\n",
    "# ChatOpenAI 인스턴스를 생성하여 LLM (대규모 언어 모델)을 설정합니다.\n",
    "# 여기서는 'gpt-4o' 모델을 사용하고, temperature는 0으로 설정하여 출력의 일관성을 높입니다.\n",
    "model = ChatOpenAI(model='gpt-4o', temperature=0)\n",
    "\n",
    "# 문서들을 형식화하는 함수를 정의합니다.\n",
    "# 각 문서의 페이지 내용을 합쳐 하나의 문자열로 반환합니다.\n",
    "def format_docs(docs):\n",
    "    return '\\n\\n'.join(doc.page_content for doc in docs)\n",
    "\n",
    "# RAG (Retrieval-Augmented Generation) 체인을 연결합니다.\n",
    "# 이 체인은 문서 검색, 형식화, 프롬프트 적용, 모델 호출, 출력 파싱의 과정을 거칩니다.\n",
    "rag_chain = (\n",
    "    {'context': retriever | format_docs, 'question': RunnablePassthrough()}  # 'context'는 retriever와 format_docs를 통해 설정되고, 'question'은 그대로 전달됩니다.\n",
    "    | prompt  # 프롬프트 템플릿을 적용합니다.\n",
    "    | model  # 모델을 호출합니다.\n",
    "    | StrOutputParser()  # 출력 파서를 통해 모델의 출력을 문자열로 변환합니다.\n",
    ")\n",
    "\n",
    "# 체인을 실행합니다.\n",
    "# 입력 메시지는 질문과 답변 형식의 텍스트입니다.\n",
    "input_message =  \"\"\"\n",
    "나 졸업 언제쯤 가능할꺼같아? 한글로 대답해\n",
    "\"\"\"   # 추가적인 입력 프롬프트가 이어집니다.\n",
    "\n",
    "# to_markdown() 함수를 호출하여 체인의 결과를 마크다운 형식으로 변환합니다.\n",
    "to_markdown(rag_chain.invoke(\"input_message\"))\n"
   ]
  },
  {
   "cell_type": "code",
   "execution_count": 31,
   "metadata": {},
   "outputs": [
    {
     "name": "stdout",
     "output_type": "stream",
     "text": [
      "Running on local URL:  http://127.0.0.1:7863\n",
      "\n",
      "To create a public link, set `share=True` in `launch()`.\n"
     ]
    },
    {
     "data": {
      "text/html": [
       "<div><iframe src=\"http://127.0.0.1:7863/\" width=\"100%\" height=\"500\" allow=\"autoplay; camera; microphone; clipboard-read; clipboard-write;\" frameborder=\"0\" allowfullscreen></iframe></div>"
      ],
      "text/plain": [
       "<IPython.core.display.HTML object>"
      ]
     },
     "metadata": {},
     "output_type": "display_data"
    },
    {
     "data": {
      "text/plain": []
     },
     "execution_count": 31,
     "metadata": {},
     "output_type": "execute_result"
    }
   ],
   "source": [
    "import gradio as gr\n",
    "from PyPDF2 import PdfReader\n",
    "from langchain_openai import ChatOpenAI\n",
    "from langchain_core.prompts import ChatPromptTemplate\n",
    "from langchain_core.runnables import RunnablePassthrough\n",
    "from langchain_core.output_parsers import StrOutputParser\n",
    "from langchain_core.messages import AIMessage, HumanMessage, SystemMessage\n",
    "import json\n",
    "\n",
    "# 프롬프트 템플릿을 정의합니다.\n",
    "SYS_PROMPT = \"Your role is to answer questions based on provided context. Be as informative as possible.\"\n",
    "template = '''Answer the question based only on the following context:\n",
    "{context}\n",
    "\n",
    "Question: {question}\n",
    "'''\n",
    "prompt = ChatPromptTemplate.from_template(template)\n",
    "\n",
    "# 모델 설정\n",
    "model = ChatOpenAI(model='gpt-4', temperature=0)\n",
    "\n",
    "# 문서들을 형식화하는 함수 정의\n",
    "def format_docs(docs):\n",
    "    return '\\n\\n'.join(doc.page_content for doc in docs)\n",
    "\n",
    "# PDF 파일에서 텍스트를 추출하는 함수\n",
    "def extract_text_from_pdf(pdf_path):\n",
    "    reader = PdfReader(pdf_path)\n",
    "    text = \"\"\n",
    "    for page in reader.pages:\n",
    "        text += page.extract_text()\n",
    "    return text\n",
    "\n",
    "# 사용자의 질문에 대한 답변을 생성하는 함수\n",
    "def answer_question(pdf_path, question):\n",
    "    # PDF에서 텍스트 추출\n",
    "    context = extract_text_from_pdf(pdf_path)\n",
    "    \n",
    "    # 프롬프트 생성\n",
    "    formatted_prompt = prompt.format_prompt(context=context, question=question)\n",
    "    \n",
    "    # System 및 Human 메시지 생성\n",
    "    system_message = SystemMessage(content=SYS_PROMPT)\n",
    "    user_message = HumanMessage(content=formatted_prompt.to_string())\n",
    "    \n",
    "    # 모델 호출\n",
    "    response = model([system_message, user_message])\n",
    "    return response.content\n",
    "\n",
    "# 그라디오 인터페이스 설정\n",
    "iface = gr.Interface(\n",
    "    fn=answer_question,\n",
    "    inputs=[\n",
    "        gr.File(label=\"Upload PDF\", type=\"filepath\"),\n",
    "        gr.Textbox(label=\"Question\", lines=2)\n",
    "    ],\n",
    "    outputs=\"text\",\n",
    "    title=\"PDF QA Chatbot\",\n",
    "    description=\"Upload a PDF and ask questions about its content.\"\n",
    ")\n",
    "\n",
    "# 그라디오 인터페이스 실행\n",
    "iface.launch()\n"
   ]
  },
  {
   "cell_type": "code",
   "execution_count": null,
   "metadata": {},
   "outputs": [],
   "source": []
  }
 ],
 "metadata": {
  "kernelspec": {
   "display_name": "aiservice",
   "language": "python",
   "name": "python3"
  },
  "language_info": {
   "codemirror_mode": {
    "name": "ipython",
    "version": 3
   },
   "file_extension": ".py",
   "mimetype": "text/x-python",
   "name": "python",
   "nbconvert_exporter": "python",
   "pygments_lexer": "ipython3",
   "version": "3.9.19"
  }
 },
 "nbformat": 4,
 "nbformat_minor": 2
}
